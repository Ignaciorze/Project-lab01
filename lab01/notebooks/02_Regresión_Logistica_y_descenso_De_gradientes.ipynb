{
 "cells": [
  {
   "cell_type": "code",
   "execution_count": 1,
   "metadata": {},
   "outputs": [],
   "source": [
    "import numpy as np\n",
    "import matplotlib.pyplot as plt\n",
    "import seaborn as sns\n",
    "import pandas as pd\n",
    "plt.style.use(\"ggplot\")\n",
    "%matplotlib inline"
   ]
  },
  {
   "cell_type": "code",
   "execution_count": 2,
   "metadata": {},
   "outputs": [
    {
     "data": {
      "text/html": [
       "<div>\n",
       "<style scoped>\n",
       "    .dataframe tbody tr th:only-of-type {\n",
       "        vertical-align: middle;\n",
       "    }\n",
       "\n",
       "    .dataframe tbody tr th {\n",
       "        vertical-align: top;\n",
       "    }\n",
       "\n",
       "    .dataframe thead th {\n",
       "        text-align: right;\n",
       "    }\n",
       "</style>\n",
       "<table border=\"1\" class=\"dataframe\">\n",
       "  <thead>\n",
       "    <tr style=\"text-align: right;\">\n",
       "      <th></th>\n",
       "      <th>Unnamed: 0</th>\n",
       "      <th>score-1</th>\n",
       "      <th>score_2</th>\n",
       "      <th>label</th>\n",
       "    </tr>\n",
       "  </thead>\n",
       "  <tbody>\n",
       "    <tr>\n",
       "      <th>0</th>\n",
       "      <td>0</td>\n",
       "      <td>34.623660</td>\n",
       "      <td>78.024693</td>\n",
       "      <td>0</td>\n",
       "    </tr>\n",
       "    <tr>\n",
       "      <th>1</th>\n",
       "      <td>1</td>\n",
       "      <td>30.286711</td>\n",
       "      <td>43.894998</td>\n",
       "      <td>0</td>\n",
       "    </tr>\n",
       "    <tr>\n",
       "      <th>2</th>\n",
       "      <td>2</td>\n",
       "      <td>35.847409</td>\n",
       "      <td>72.902198</td>\n",
       "      <td>0</td>\n",
       "    </tr>\n",
       "    <tr>\n",
       "      <th>3</th>\n",
       "      <td>3</td>\n",
       "      <td>60.182599</td>\n",
       "      <td>86.308552</td>\n",
       "      <td>1</td>\n",
       "    </tr>\n",
       "    <tr>\n",
       "      <th>4</th>\n",
       "      <td>4</td>\n",
       "      <td>79.032736</td>\n",
       "      <td>75.344376</td>\n",
       "      <td>1</td>\n",
       "    </tr>\n",
       "  </tbody>\n",
       "</table>\n",
       "</div>"
      ],
      "text/plain": [
       "   Unnamed: 0    score-1    score_2  label\n",
       "0           0  34.623660  78.024693      0\n",
       "1           1  30.286711  43.894998      0\n",
       "2           2  35.847409  72.902198      0\n",
       "3           3  60.182599  86.308552      1\n",
       "4           4  79.032736  75.344376      1"
      ]
     },
     "execution_count": 2,
     "metadata": {},
     "output_type": "execute_result"
    }
   ],
   "source": [
    "datos = pd.read_csv(\"./data/02_intermidiate.csv\")\n",
    "datos.head()"
   ]
  },
  {
   "cell_type": "code",
   "execution_count": 3,
   "metadata": {},
   "outputs": [],
   "source": [
    "datos = datos.rename(columns = {'score-1':'score_1','score-2':'score_2'})"
   ]
  },
  {
   "cell_type": "code",
   "execution_count": 4,
   "metadata": {},
   "outputs": [],
   "source": [
    "puntuaciones = datos[['score_1', 'score_2']].values\n",
    "resultado = datos['label'].values"
   ]
  },
  {
   "cell_type": "code",
   "execution_count": null,
   "metadata": {},
   "outputs": [],
   "source": [
    "def logistic_function(x):    \n",
    "    return 1/ (1 + np.exp(-x))"
   ]
  },
  {
   "cell_type": "code",
   "execution_count": null,
   "metadata": {},
   "outputs": [],
   "source": [
    "def funcion_de_coste(theta, x, y):\n",
    "    m = len(y) # numero de observaciones\n",
    "    y_pred = logistic_function(np.dot(x , theta)) \n",
    "    # Devuelve una matriz fruto del producto de X y theta empleando la regresión logística\n",
    "    error = (y * np.log(y_pred)) + ((1 - y) * np.log(1 - y_pred)) # termino error\n",
    "    cost = -1 / m * sum(error) # función del coste para theta\n",
    "    gradient = 1 / m * np.dot(x.transpose(), (y_pred - y)) # la formula que representa el coste de la función del gradiente\n",
    "    return cost[0] , gradient # devuelve el resultado de la función coste y del gradiente"
   ]
  },
  {
   "cell_type": "code",
   "execution_count": null,
   "metadata": {},
   "outputs": [],
   "source": [
    "media_puntuaciones = np.mean(puntuaciones, axis=0)\n",
    "desv_tipica_puntuaciones = np.std(puntuaciones, axis=0)\n",
    "puntuaciones_estandarizadas = (puntuaciones - media_puntuaciones) / desv_tipica_puntuaciones # Estandardizacion\n",
    "\n",
    "filas = puntuaciones_estandarizadas.shape[0] # numero de filas\n",
    "columnas = puntuaciones_estandarizadas.shape[1] # numero de columnas\n",
    "\n",
    "X = np.append(np.ones((filas, 1)), puntuaciones_estandarizadas, axis=1) # Matriz de las filas + una nueva columna de 1 (filas con 1)\n",
    "y = resultado.reshape(filas, 1) # vector de label\n",
    "\n",
    "theta_0 = np.zeros((columnas + 1, 1)) # matriz de thetas segun el numero de variables (con valor 0)\n",
    "coste, gradiente = funcion_de_coste(theta_0, X, y) # se obtiene el coste para theta = 0 y los gradientes\n",
    "\n",
    "print(\"Cost at initialization\", coste)\n",
    "print(\"Gradient at initialization:\", gradiente)"
   ]
  },
  {
   "cell_type": "code",
   "execution_count": null,
   "metadata": {},
   "outputs": [],
   "source": [
    "def funcion_descenso_gradiente(X, y, theta, tasa_de_aprendizaje, iteraciones):\n",
    "    costes = [] # coste para cada iteracion\n",
    "    for i in range(iteraciones): # para cada iteracion\n",
    "        coste, gradiente = funcion_de_coste(theta, X, y) # calcula su coste y matriz theta \n",
    "        theta -= (tasa_de_aprendizaje * gradiente) \n",
    "        # la nueva matriz theta cpn cada iteración vendrá dada por el producto entre el gradiente y la tasa de aprendizaje\n",
    "        costes.append(coste) # agrega los elementos de coste a costes\n",
    "    return theta, costes "
   ]
  },
  {
   "cell_type": "code",
   "execution_count": null,
   "metadata": {},
   "outputs": [],
   "source": [
    "learning_rate = 0.02 # ratio de aprendizaje\n",
    "numero_de_iteraciones = 100\n",
    "X = np.append(np.ones((filas, 1)), puntuaciones_estandarizadas, axis=1) \n",
    "y = resultado.reshape(filas, 1)\n",
    "\n",
    "theta_0 = np.zeros((columnas + 1, 1))\n",
    "\n",
    "theta, costes = funcion_descenso_gradiente(X, y, theta_0, learning_rate, numero_de_iteraciones)\n",
    "\n",
    "print(theta)\n",
    "print(costes[-1])\n",
    "\n",
    "plt.plot(costes, 'b.')\n",
    "plt.xlabel(\"Iteraciones\")\n",
    "plt.ylabel(\"Theta\");"
   ]
  },
  {
   "cell_type": "code",
   "execution_count": null,
   "metadata": {},
   "outputs": [],
   "source": [
    "learning_rate = 1 # ratio de aprendizaje\n",
    "numero_de_iteraciones = 100\n",
    "X = np.append(np.ones((filas, 1)), puntuaciones_estandarizadas, axis=1) \n",
    "y = resultado.reshape(filas, 1)\n",
    "\n",
    "theta_0 = np.zeros((columnas + 1, 1))\n",
    "\n",
    "theta, costes = funcion_descenso_gradiente(X, y, theta_0, learning_rate, numero_de_iteraciones)\n",
    "\n",
    "print(theta)\n",
    "print(costes[-1])\n",
    "\n",
    "plt.plot(costes, 'b.')\n",
    "plt.xlabel(\"Iteraciones\")\n",
    "plt.ylabel(\"Theta\");"
   ]
  },
  {
   "cell_type": "code",
   "execution_count": null,
   "metadata": {},
   "outputs": [],
   "source": [
    "learning_rate = 0.02 # ratio de aprendizaje\n",
    "numero_de_iteraciones = 500\n",
    "X = np.append(np.ones((filas, 1)), puntuaciones_estandarizadas, axis=1) \n",
    "y = resultado.reshape(filas, 1)\n",
    "\n",
    "theta_0 = np.zeros((columnas + 1, 1))\n",
    "\n",
    "theta, costes = funcion_descenso_gradiente(X, y, theta_0, learning_rate, numero_de_iteraciones)\n",
    "\n",
    "print(theta)\n",
    "print(costes[-1])\n",
    "\n",
    "plt.plot(costes, 'b.')\n",
    "plt.xlabel(\"Iteraciones\")\n",
    "plt.ylabel(\"Theta\");"
   ]
  },
  {
   "cell_type": "code",
   "execution_count": null,
   "metadata": {},
   "outputs": [],
   "source": [
    "learning_rate = 0.5 # ratio de aprendizaje\n",
    "numero_de_iteraciones = 1000\n",
    "X = np.append(np.ones((filas, 1)), puntuaciones_estandarizadas, axis=1) \n",
    "y = resultado.reshape(filas, 1)\n",
    "\n",
    "theta_0 = np.zeros((columnas + 1, 1))\n",
    "\n",
    "theta, costes = funcion_descenso_gradiente(X, y, theta_0, learning_rate, numero_de_iteraciones)\n",
    "\n",
    "print(theta)\n",
    "print(costes[-1])\n",
    "\n",
    "plt.plot(costes, 'b.')\n",
    "plt.xlabel(\"Iteraciones\")\n",
    "plt.ylabel(\"Theta\");"
   ]
  }
 ],
 "metadata": {
  "kernelspec": {
   "display_name": "gradient_env",
   "language": "python",
   "name": "gradient_env"
  },
  "language_info": {
   "codemirror_mode": {
    "name": "ipython",
    "version": 3
   },
   "file_extension": ".py",
   "mimetype": "text/x-python",
   "name": "python",
   "nbconvert_exporter": "python",
   "pygments_lexer": "ipython3",
   "version": "3.7.8"
  }
 },
 "nbformat": 4,
 "nbformat_minor": 4
}
